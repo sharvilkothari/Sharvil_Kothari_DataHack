{
  "nbformat": 4,
  "nbformat_minor": 0,
  "metadata": {
    "colab": {
      "provenance": []
    },
    "kernelspec": {
      "name": "python3",
      "display_name": "Python 3"
    },
    "language_info": {
      "name": "python"
    }
  },
  "cells": [
    {
      "cell_type": "code",
      "execution_count": 2,
      "metadata": {
        "id": "4RV7u_F_WWlN",
        "colab": {
          "base_uri": "https://localhost:8080/"
        },
        "outputId": "2639a87b-2dcb-4568-860d-0709ec993a15"
      },
      "outputs": [
        {
          "output_type": "stream",
          "name": "stdout",
          "text": [
            "Hello\n"
          ]
        }
      ],
      "source": [
        "import pandas as pd\n",
        "from sklearn.linear_model import LogisticRegression\n",
        "from sklearn.model_selection import train_test_split\n",
        "from sklearn.metrics import roc_auc_score\n",
        "from sklearn.preprocessing import StandardScaler\n",
        "\n",
        "# Load datasets\n",
        "train_features = pd.read_csv('/content/training_set_features.csv')\n",
        "train_labels = pd.read_csv('/content/training_set_labels.csv')\n",
        "test_features = pd.read_csv('/content/test_set_features.csv')\n",
        "\n",
        "# Merge training features with labels\n",
        "train_data = pd.merge(train_features, train_labels, on='respondent_id')\n",
        "\n",
        "# Drop unnecessary columns\n",
        "object_cols = train_data.select_dtypes(include='object').columns\n",
        "train_data.drop(columns=object_cols, inplace=True)\n",
        "train_data.drop(columns=['respondent_id'], inplace=True)\n",
        "test_respondent_ids = test_features['respondent_id']  # Save respondent_ids for final submission\n",
        "\n",
        "# Drop object columns from test features as well\n",
        "test_features.drop(columns=object_cols, inplace=True)\n",
        "test_features.drop(columns=['respondent_id'], inplace=True)\n",
        "\n",
        "# Handle missing values (example: forward fill)\n",
        "train_data.fillna(method='ffill', inplace=True)\n",
        "test_features.fillna(method='ffill', inplace=True)\n",
        "\n",
        "# Separate features and target variables\n",
        "X = train_data.drop(columns=['xyz_vaccine', 'seasonal_vaccine'])\n",
        "y_xyz = train_data['xyz_vaccine']\n",
        "y_seasonal = train_data['seasonal_vaccine']\n",
        "\n",
        "# Split data into train and validation sets\n",
        "X_train, X_valid, y_train_xyz, y_valid_xyz = train_test_split(X, y_xyz, test_size=0.2, random_state=42)\n",
        "X_train_seasonal, X_valid_seasonal, y_train_seasonal, y_valid_seasonal = train_test_split(X, y_seasonal, test_size=0.2, random_state=42)\n",
        "\n",
        "# Initialize models\n",
        "logreg_xyz = LogisticRegression(max_iter=1000, random_state=42)\n",
        "logreg_seasonal = LogisticRegression(max_iter=1000, random_state=42)\n",
        "\n",
        "# Fit models\n",
        "logreg_xyz.fit(X_train, y_train_xyz)\n",
        "logreg_seasonal.fit(X_train_seasonal, y_train_seasonal)\n",
        "\n",
        "# Predict probabilities on validation set for evaluation\n",
        "y_valid_xyz_pred = logreg_xyz.predict_proba(X_valid)[:, 1]\n",
        "y_valid_seasonal_pred = logreg_seasonal.predict_proba(X_valid_seasonal)[:, 1]\n",
        "\n",
        "# Evaluate the model\n",
        "roc_auc_xyz = roc_auc_score(y_valid_xyz, y_valid_xyz_pred)\n",
        "roc_auc_seasonal = roc_auc_score(y_valid_seasonal, y_valid_seasonal_pred)\n",
        "print(f'ROC AUC for xyz_vaccine: {roc_auc_xyz}')\n",
        "print(f'ROC AUC for seasonal_vaccine: {roc_auc_seasonal}')\n",
        "print(f'Average ROC AUC: {(roc_auc_xyz + roc_auc_seasonal) / 2}')\n",
        "\n",
        "# Predict probabilities on test set\n",
        "preds_test_xyz = logreg_xyz.predict_proba(test_features)[:, 1]\n",
        "preds_test_seasonal = logreg_seasonal.predict_proba(test_features)[:, 1]\n",
        "\n",
        "# Prepare submission DataFrame\n",
        "submission_df = pd.DataFrame({\n",
        "    'respondent_id': test_respondent_ids,\n",
        "    'h1n1_vaccine': preds_test_xyz,\n",
        "    'seasonal_vaccine': preds_test_seasonal\n",
        "})\n",
        "\n",
        "# Save submission file\n",
        "submission_df.to_csv('submission.csv', index=False)\n",
        "print(\"Submission file saved as submission.csv\")"
      ]
    },
    {
      "cell_type": "code",
      "source": [],
      "metadata": {
        "id": "l9LnpYoCuGb2"
      },
      "execution_count": null,
      "outputs": []
    }
  ]
}